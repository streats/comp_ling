{
 "cells": [
  {
   "cell_type": "code",
   "execution_count": 35,
   "id": "e97cff93",
   "metadata": {},
   "outputs": [],
   "source": [
    "# import the libraries we need\n",
    "from bs4 import BeautifulSoup\n",
    "import requests"
   ]
  },
  {
   "cell_type": "code",
   "execution_count": 48,
   "id": "82479c0b",
   "metadata": {},
   "outputs": [],
   "source": [
    "# specify the URLs we'll be using\n",
    "\n",
    "url_list = ['https://docs.github.com', 'https://docs.aws.amazon.com', 'https://learn.microsoft.com/docs/', 'https://developer.wikimedia.org']\n",
    "\n",
    "# create a soup of the URLs\n",
    "for u in url_list:\n",
    "    response = requests.get(u)\n",
    "    soup = BeautifulSoup(response.content, \"html.parser\")"
   ]
  },
  {
   "cell_type": "code",
   "execution_count": 49,
   "id": "30fa4156",
   "metadata": {},
   "outputs": [
    {
     "name": "stdout",
     "output_type": "stream",
     "text": [
      "https://docs.github.com\n",
      "h1 Discover and build Wikimedia technology\n",
      "h2 Use Wikimedia content and data¶\n",
      "h2 Build tools and bots¶\n",
      "h2 Contribute to Wikimedia open source¶\n",
      "h2 Connect with the community¶\n",
      "h2 Get help¶\n",
      "https://docs.aws.amazon.com\n",
      "h1 Discover and build Wikimedia technology\n",
      "h2 Use Wikimedia content and data¶\n",
      "h2 Build tools and bots¶\n",
      "h2 Contribute to Wikimedia open source¶\n",
      "h2 Connect with the community¶\n",
      "h2 Get help¶\n",
      "https://learn.microsoft.com/docs/\n",
      "h1 Discover and build Wikimedia technology\n",
      "h2 Use Wikimedia content and data¶\n",
      "h2 Build tools and bots¶\n",
      "h2 Contribute to Wikimedia open source¶\n",
      "h2 Connect with the community¶\n",
      "h2 Get help¶\n",
      "https://developer.wikimedia.org\n",
      "h1 Discover and build Wikimedia technology\n",
      "h2 Use Wikimedia content and data¶\n",
      "h2 Build tools and bots¶\n",
      "h2 Contribute to Wikimedia open source¶\n",
      "h2 Connect with the community¶\n",
      "h2 Get help¶\n"
     ]
    }
   ],
   "source": [
    "# Iterate through each URL, find and print the H1\n",
    "\n",
    "for u in url_list:    \n",
    "    print(u)\n",
    "    for heading in soup.find_all([\"h1\", \"h2\", \"h3\", \"h4\", \"h5\", \"h6\"]):\n",
    "        print(heading.name, heading.text)"
   ]
  }
 ],
 "metadata": {
  "kernelspec": {
   "display_name": "Python 3 (ipykernel)",
   "language": "python",
   "name": "python3"
  },
  "language_info": {
   "codemirror_mode": {
    "name": "ipython",
    "version": 3
   },
   "file_extension": ".py",
   "mimetype": "text/x-python",
   "name": "python",
   "nbconvert_exporter": "python",
   "pygments_lexer": "ipython3",
   "version": "3.11.5"
  }
 },
 "nbformat": 4,
 "nbformat_minor": 5
}

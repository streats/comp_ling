{
 "cells": [
  {
   "cell_type": "code",
   "execution_count": 67,
   "id": "e97cff93",
   "metadata": {},
   "outputs": [],
   "source": [
    "# import the libraries we need\n",
    "from bs4 import BeautifulSoup\n",
    "import requests"
   ]
  },
  {
   "cell_type": "code",
   "execution_count": 68,
   "id": "82479c0b",
   "metadata": {},
   "outputs": [],
   "source": [
    "# specify the URLs we'll be using\n",
    "\n",
    "url_list = [\"https://docs.github.com\", \"https://docs.aws.amazon.com\", \"https://learn.microsoft.com/docs/\", \"https://developer.wikimedia.org/\"]"
   ]
  },
  {
   "cell_type": "code",
   "execution_count": 69,
   "id": "30fa4156",
   "metadata": {
    "scrolled": true
   },
   "outputs": [
    {
     "name": "stdout",
     "output_type": "stream",
     "text": [
      "https://docs.github.com\n",
      "h1 GitHub Docs\n",
      "h2 Get started\n",
      "h2 Collaborative coding\n",
      "h2 CI/CD and DevOps\n",
      "h2 Security\n",
      "h2 Client apps\n",
      "h2 Project management\n",
      "h2 Developers\n",
      "h2 Enterprise and Teams\n",
      "h2 Community\n",
      "h2 More docs\n",
      "h2 Getting started\n",
      "h3 Set up Git\n",
      "h3 Connecting to GitHub with SSH\n",
      "h3 Creating and managing repositories\n",
      "h3 Basic writing and formatting syntax\n",
      "h2 Popular\n",
      "h3 About pull requests\n",
      "h3 Authentication documentation\n",
      "h3 Adding locally hosted code to GitHub\n",
      "h3 Managing remote repositories\n",
      "h2 Help and support\n",
      "h3 Did this doc help you?\n",
      "h3 Help us make these docs great!\n",
      "h3 Still need help?\n",
      "h2 Legal\n",
      "https://docs.aws.amazon.com\n",
      "https://learn.microsoft.com/docs/\n",
      "h1 Technical documentation\n",
      "h2 Product directory\n",
      "h2 Recommended Resources\n",
      "https://developer.wikimedia.org/\n",
      "h1 Discover and build Wikimedia technology\n",
      "h2 Use Wikimedia content and data¶\n",
      "h2 Build tools and bots¶\n",
      "h2 Contribute to Wikimedia open source¶\n",
      "h2 Connect with the community¶\n",
      "h2 Get help¶\n"
     ]
    }
   ],
   "source": [
    "# Iterate through each URL, find and print the H1\n",
    "\n",
    "for u in url_list:\n",
    "    response = requests.get(u)\n",
    "    soup = BeautifulSoup(response.content, \"html.parser\")\n",
    "    \n",
    "    print(u)\n",
    "    for heading in soup.find_all([\"h1\", \"h2\", \"h3\", \"h4\", \"h5\", \"h6\"]):\n",
    "        print(heading.name, heading.text)"
   ]
  },
  {
   "cell_type": "code",
   "execution_count": 70,
   "id": "326ea60b",
   "metadata": {},
   "outputs": [
    {
     "name": "stdout",
     "output_type": "stream",
     "text": [
      "<a class=\"md-skip\" href=\"#use-wikimedia-content-and-data\">\n",
      "          Skip to content\n",
      "        </a>\n",
      "<a class=\"md-skip\" href=\"#use-wikimedia-content-and-data\">\n",
      "          Skip to content\n",
      "        </a>\n",
      "<a class=\"md-skip\" href=\"#use-wikimedia-content-and-data\">\n",
      "          Skip to content\n",
      "        </a>\n",
      "<a class=\"md-skip\" href=\"#use-wikimedia-content-and-data\">\n",
      "          Skip to content\n",
      "        </a>\n"
     ]
    }
   ],
   "source": [
    "# Find the first link on each URL \n",
    "\n",
    "for u in url_list:\n",
    "    first_link = soup.a\n",
    "    print(first_link)"
   ]
  }
 ],
 "metadata": {
  "kernelspec": {
   "display_name": "Python 3 (ipykernel)",
   "language": "python",
   "name": "python3"
  },
  "language_info": {
   "codemirror_mode": {
    "name": "ipython",
    "version": 3
   },
   "file_extension": ".py",
   "mimetype": "text/x-python",
   "name": "python",
   "nbconvert_exporter": "python",
   "pygments_lexer": "ipython3",
   "version": "3.11.5"
  }
 },
 "nbformat": 4,
 "nbformat_minor": 5
}
